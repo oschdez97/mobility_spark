{
 "cells": [
  {
   "cell_type": "code",
   "execution_count": 1,
   "metadata": {},
   "outputs": [],
   "source": [
    "import json\n",
    "import time\n",
    "import pyspark.sql.functions as F\n",
    "from utils import get_range, count_occurrences_and_normalize, origin_destination_product\n",
    "from pyspark.sql import SparkSession\n",
    "from pyspark.sql.types import StringType, ArrayType, IntegerType"
   ]
  },
  {
   "cell_type": "code",
   "execution_count": 2,
   "metadata": {},
   "outputs": [],
   "source": [
    "CELL_AREA    = '/data/cell_area.csv'\n",
    "PARQUETS_DIR = '/data/parquets'\n",
    "CURRENT_DIR  = '/home/hellscream/Documents/backendSpark'"
   ]
  },
  {
   "cell_type": "code",
   "execution_count": 3,
   "metadata": {},
   "outputs": [],
   "source": [
    "time_start = time.time()"
   ]
  },
  {
   "cell_type": "markdown",
   "metadata": {},
   "source": [
    "## DataFrame Schema"
   ]
  },
  {
   "cell_type": "raw",
   "metadata": {},
   "source": [
    "root\n",
    " |-- code: string (nullable = true)\n",
    " |-- towers: array (nullable = true)\n",
    " |    |-- element: string (containsNull = true)\n",
    " |-- times: array (nullable = true)\n",
    " |    |-- element: integer (containsNull = true)"
   ]
  },
  {
   "cell_type": "markdown",
   "metadata": {},
   "source": [
    "## Create Spark Session"
   ]
  },
  {
   "cell_type": "code",
   "execution_count": 4,
   "metadata": {},
   "outputs": [],
   "source": [
    "class SparkSessionBase():\n",
    "    def __init__(self):\n",
    "        self.spark = SparkSession\\\n",
    "                     .builder\\\n",
    "                     .appName('Mobility')\\\n",
    "                     .getOrCreate()\n",
    "        \n",
    "        self.cell_area_df = self.spark.read.format('csv').options(header='true', delimiter='\\t')\\\n",
    "                         .load(CURRENT_DIR + CELL_AREA)\\\n",
    "                         .select('id', 'area_correlator', 'latitude', 'longitude', 'province')"
   ]
  },
  {
   "cell_type": "code",
   "execution_count": 5,
   "metadata": {},
   "outputs": [],
   "source": [
    "class Mobility(SparkSessionBase):\n",
    "    def __init__(self, date, time_start_lower, time_start_high, time_end_lower,\n",
    "        time_end_high, time_sleep_lower='01:00', time_sleep_high='04:00'):\n",
    "        super().__init__()\n",
    "        self.date = date\n",
    "        \n",
    "    def get_mobility_at_time_interval(self, time_start, time_end):\n",
    "        # load correspondent parquet\n",
    "        df = self.spark.read.parquet(CURRENT_DIR + PARQUETS_DIR + '/' + self.date)\n",
    "\n",
    "        get_range_udf = F.udf(lambda elems, a, b : get_range(elems, a, b), ArrayType(IntegerType()))\n",
    "\n",
    "        df = df.withColumn('range', get_range_udf(df.times, F.lit(time_start), F.lit(time_end)))\\\n",
    "               .select(df.code,\\\n",
    "               F.slice(df.towers, F.col('range')[0], F.col('range')[1]).alias('towers'),\\\n",
    "               F.slice(df.times,  F.col('range')[0], F.col('range')[1]).alias('times'))\\\n",
    "               .where(F.size(F.col('towers')) > 0)\n",
    "        \n",
    "        count_occurrences_udf = F.udf(lambda x : count_occurrences_and_normalize(x),\\\n",
    "                                      ArrayType(ArrayType(StringType())))\n",
    "        \n",
    "        df = df.select('code', count_occurrences_udf(F.col('towers')).alias('towers-count'))\n",
    "        \n",
    "        #df.printSchema()\n",
    "        #df.show(10)\n",
    "        \n",
    "        return df"
   ]
  },
  {
   "cell_type": "code",
   "execution_count": 6,
   "metadata": {
    "scrolled": false
   },
   "outputs": [],
   "source": [
    "mobility_instance = Mobility('2020-11-02', None, None, None, None)\n",
    "user_cells_start = mobility_instance.get_mobility_at_time_interval(30, 1000)\n",
    "user_cells_end   = mobility_instance.get_mobility_at_time_interval(1400, 2700)"
   ]
  },
  {
   "cell_type": "code",
   "execution_count": 7,
   "metadata": {
    "scrolled": false
   },
   "outputs": [
    {
     "name": "stdout",
     "output_type": "stream",
     "text": [
      "+-------+--------------------+\n",
      "|   code|        towers-count|\n",
      "+-------+--------------------+\n",
      "|4582376|      [[d7b9d, 1.0]]|\n",
      "|6892952|      [[d5yy1, 1.0]]|\n",
      "| 819378|      [[d5zur, 1.0]]|\n",
      "|1588148|      [[d78yd, 1.0]]|\n",
      "|6901043|      [[d5yvc, 1.0]]|\n",
      "|1229925|      [[d795s, 1.0]]|\n",
      "|4647869|      [[d7b9d, 1.0]]|\n",
      "|3049134|[[d7b9d, 0.8571],...|\n",
      "|3998644|      [[d797z, 1.0]]|\n",
      "|1705846|      [[d7c49, 1.0]]|\n",
      "| 379374|      [[d5yvg, 1.0]]|\n",
      "|6202650|      [[d5yy1, 1.0]]|\n",
      "|4230783|      [[d5zhh, 1.0]]|\n",
      "|6620846|      [[d5yy4, 1.0]]|\n",
      "|7075816|      [[d79r0, 1.0]]|\n",
      "| 565307|      [[dhjcx, 1.0]]|\n",
      "| 115154|      [[d795t, 1.0]]|\n",
      "|5292136|      [[d5zxh, 1.0]]|\n",
      "|2181906|[[d79eb, 0.8148],...|\n",
      "|6922882|      [[d5yyn, 1.0]]|\n",
      "+-------+--------------------+\n",
      "only showing top 20 rows\n",
      "\n"
     ]
    }
   ],
   "source": [
    "user_cells_start.show()"
   ]
  },
  {
   "cell_type": "code",
   "execution_count": 8,
   "metadata": {
    "scrolled": false
   },
   "outputs": [
    {
     "name": "stdout",
     "output_type": "stream",
     "text": [
      "+-------+--------------------+\n",
      "|   code|        towers-count|\n",
      "+-------+--------------------+\n",
      "|6892952|      [[d5yy1, 1.0]]|\n",
      "| 819378|      [[d5zur, 1.0]]|\n",
      "|1588148|      [[d78yd, 1.0]]|\n",
      "|6901043|      [[d5yvc, 1.0]]|\n",
      "|7325994|      [[d79r1, 1.0]]|\n",
      "|3049134|[[d7b9d, 0.5], [d...|\n",
      "| 379374|      [[d5yvg, 1.0]]|\n",
      "|4230783|      [[d5zhh, 1.0]]|\n",
      "|6620846|      [[d5yy4, 1.0]]|\n",
      "| 565307|      [[dhjcx, 1.0]]|\n",
      "|2181906|[[d79eb, 0.7857],...|\n",
      "|6922882|      [[d5yyn, 1.0]]|\n",
      "|1461404|      [[d7bh0, 1.0]]|\n",
      "| 113609|      [[d5yvg, 1.0]]|\n",
      "| 221420|      [[d79eb, 1.0]]|\n",
      "| 314712|      [[d7b9d, 1.0]]|\n",
      "|7593700|      [[d78tc, 1.0]]|\n",
      "|2097102|[[d79qz, 0.3333],...|\n",
      "|7211033|      [[d5yv8, 1.0]]|\n",
      "|4280644|      [[d5zkh, 1.0]]|\n",
      "+-------+--------------------+\n",
      "only showing top 20 rows\n",
      "\n"
     ]
    }
   ],
   "source": [
    "user_cells_end.show()"
   ]
  },
  {
   "cell_type": "code",
   "execution_count": 9,
   "metadata": {
    "scrolled": false
   },
   "outputs": [
    {
     "name": "stdout",
     "output_type": "stream",
     "text": [
      "+-------+--------------------+-------+--------------------+\n",
      "|   code|        towers-count| code_1|      towers-count_1|\n",
      "+-------+--------------------+-------+--------------------+\n",
      "|1023947|[[dhj7tg, 0.5], [...|1023947|[[dhj7tg, 0.6667]...|\n",
      "|1028327|      [[d795t, 1.0]]|1028327|[[d795s, 0.6667],...|\n",
      "|1029426|      [[d7c88, 1.0]]|1029426|      [[d7c88, 1.0]]|\n",
      "|1030428|[[dhjgp, 0.3333],...|1030428|[[dhn50, 0.3333],...|\n",
      "|1033423|[[dhj7z1, 0.8571]...|1033423|[[dhj7z1, 0.9286]...|\n",
      "|1056865|[[dhj7jq, 0.5], [...|1056865|     [[dhj7jg, 1.0]]|\n",
      "|1060235|       [[dhhc, 1.0]]|1060235|       [[dhhc, 1.0]]|\n",
      "|1096857|[[dhj6, 0.75], [d...|1096857|       [[dhj4, 1.0]]|\n",
      "| 111710|     [[dhj7t2, 1.0]]| 111710|     [[dhj7t2, 1.0]]|\n",
      "|1147404|      [[dhjcx, 1.0]]|1147404|      [[dhjcx, 1.0]]|\n",
      "|1148935|     [[dhj7wx, 1.0]]|1148935|     [[dhj7wx, 1.0]]|\n",
      "|1160180|      [[dhjgp, 1.0]]|1160180|      [[dhjgp, 1.0]]|\n",
      "|1175424|      [[d7d4w, 1.0]]|1175424|      [[d7d4w, 1.0]]|\n",
      "|1181914|[[dhj7mz, 0.5], [...|1181914|[[dhj7ky, 0.4], [...|\n",
      "|1197655|[[dhj7mz, 0.1034]...|1197655|[[dhj7w6, 0.4], [...|\n",
      "|1230899|      [[d5zum, 1.0]]|1230899|      [[d5zum, 1.0]]|\n",
      "|1266322|      [[d7d1g, 1.0]]|1266322|      [[d7d1g, 1.0]]|\n",
      "| 129880|     [[dhj75y, 1.0]]| 129880|     [[dhj75y, 1.0]]|\n",
      "|1357494|      [[d79kc, 1.0]]|1357494|      [[d79kc, 1.0]]|\n",
      "|1380971|      [[d7d6m, 1.0]]|1380971|      [[d7d6m, 1.0]]|\n",
      "+-------+--------------------+-------+--------------------+\n",
      "only showing top 20 rows\n",
      "\n"
     ]
    }
   ],
   "source": [
    "join_user_cells = user_cells_start\\\n",
    "                  .join(user_cells_end\\\n",
    "                        .withColumnRenamed('code', 'code_1')\\\n",
    "                        .withColumnRenamed('towers-count', 'towers-count_1'))\n",
    "intersection = join_user_cells.select('*').filter(F.col('code') == F.col('code_1'))\n",
    "intersection.show()"
   ]
  },
  {
   "cell_type": "code",
   "execution_count": null,
   "metadata": {
    "scrolled": false
   },
   "outputs": [],
   "source": [
    "origin_destination_product_udf = F.udf(lambda x, y : origin_destination_product(x, y), \\\n",
    "                                       ArrayType(ArrayType(StringType())))\n",
    "\n",
    "matriz = intersection.select('code', origin_destination_product_udf(F.col('towers-count'), F.col('towers-count_1'))\\\n",
    "            .alias('start-end-val'))\n",
    "matriz.show()"
   ]
  },
  {
   "cell_type": "code",
   "execution_count": null,
   "metadata": {
    "scrolled": false
   },
   "outputs": [],
   "source": [
    "matriz = matriz.withColumn('explode', F.explode(F.col('start-end-val')))\\\n",
    "               .select([F.col('explode')[i] for i in range(3)])\\\n",
    "               .withColumnRenamed('explode[0]', 'start')\\\n",
    "               .withColumnRenamed('explode[1]', 'end')\\\n",
    "               .withColumnRenamed('explode[2]', 'count')\\\n",
    "               .groupBy('start', 'end')\\\n",
    "               .agg(F.sum(F.col('count')))\n",
    "matriz.show()"
   ]
  },
  {
   "cell_type": "code",
   "execution_count": null,
   "metadata": {},
   "outputs": [],
   "source": [
    "matriz_pandas = matriz.toPandas()\n",
    "matriz_pandas.to_json('/home/hellscream/Documents/mobility_spark/data/test.json')"
   ]
  },
  {
   "cell_type": "code",
   "execution_count": null,
   "metadata": {},
   "outputs": [],
   "source": [
    "time_end = time.time()\n",
    "print('time elapsed:' + str((time_end - time_start) / 60))"
   ]
  }
 ],
 "metadata": {
  "kernelspec": {
   "display_name": "Python 3",
   "language": "python",
   "name": "python3"
  },
  "language_info": {
   "codemirror_mode": {
    "name": "ipython",
    "version": 3
   },
   "file_extension": ".py",
   "mimetype": "text/x-python",
   "name": "python",
   "nbconvert_exporter": "python",
   "pygments_lexer": "ipython3",
   "version": "3.8.5"
  }
 },
 "nbformat": 4,
 "nbformat_minor": 4
}

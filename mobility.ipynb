{
 "cells": [
  {
   "cell_type": "code",
   "execution_count": 1,
   "metadata": {},
   "outputs": [],
   "source": [
    "import json\n",
    "import pyspark.sql.functions as F\n",
    "from utils import get_range\n",
    "from pyspark.sql import SparkSession\n",
    "from pyspark.sql.types import StringType, ArrayType, IntegerType"
   ]
  },
  {
   "cell_type": "code",
   "execution_count": 2,
   "metadata": {},
   "outputs": [],
   "source": [
    "CELL_AREA    = '/data/cell_area.csv'\n",
    "PARQUETS_DIR = '/data/parquets'\n",
    "CURRENT_DIR  = '/home/hellscream/Documents/backendSpark'"
   ]
  },
  {
   "cell_type": "markdown",
   "metadata": {},
   "source": [
    "## DataFrame Schema"
   ]
  },
  {
   "cell_type": "raw",
   "metadata": {},
   "source": [
    "root\n",
    " |-- code: string (nullable = true)\n",
    " |-- towers: array (nullable = true)\n",
    " |    |-- element: string (containsNull = true)\n",
    " |-- times: array (nullable = true)\n",
    " |    |-- element: integer (containsNull = true)"
   ]
  },
  {
   "cell_type": "markdown",
   "metadata": {},
   "source": [
    "## Create Spark Session"
   ]
  },
  {
   "cell_type": "code",
   "execution_count": 3,
   "metadata": {},
   "outputs": [],
   "source": [
    "class SparkSessionBase():\n",
    "    def __init__(self):\n",
    "        self.spark = SparkSession\\\n",
    "                     .builder\\\n",
    "                     .appName('Mobility')\\\n",
    "                     .getOrCreate()\n",
    "        \n",
    "        self.cell_area_df = self.spark.read.format('csv').options(header='true', delimiter='\\t')\\\n",
    "                         .load(CURRENT_DIR + CELL_AREA)\\\n",
    "                         .select('id', 'area_correlator', 'latitude', 'longitude', 'province')"
   ]
  },
  {
   "cell_type": "code",
   "execution_count": 16,
   "metadata": {},
   "outputs": [],
   "source": [
    "class Mobility(SparkSessionBase):\n",
    "    def __init__(self, date, time_start_lower, time_start_high, time_end_lower,\n",
    "        time_end_high, time_sleep_lower='01:00', time_sleep_high='04:00'):\n",
    "        super().__init__()\n",
    "        self.date = date\n",
    "        \n",
    "    def get_mobility_at_time_interval(self, time_start, time_end):\n",
    "        # load correspondent parquet\n",
    "        df = self.spark.read.parquet(CURRENT_DIR + PARQUETS_DIR + '/' + self.date)\n",
    "\n",
    "        get_range_udf = F.udf(lambda elems, a, b : get_range(elems, a, b), ArrayType(IntegerType()))\n",
    "\n",
    "        df = df.withColumn('range', get_range_udf(df.times, F.lit(time_start), F.lit(time_end)))\\\n",
    "               .select(df.code,\\\n",
    "               F.slice(df.towers, F.col('range')[0], F.col('range')[1]).alias('towers'),\\\n",
    "               F.slice(df.times,  F.col('range')[0], F.col('range')[1]).alias('times'))\\\n",
    "               .where(F.size(F.col('towers')) > 0)\n",
    "        \n",
    "        # df.printSchema()\n",
    "        df.show(10)\n",
    "        \n",
    "        df = df.select('code', F.explode('towers').alias('cell'))\\\n",
    "               .groupBy('code', 'cell')\\\n",
    "               .agg(F.count('cell').alias('count'))\n",
    "        \n",
    "        return df"
   ]
  },
  {
   "cell_type": "code",
   "execution_count": 27,
   "metadata": {},
   "outputs": [
    {
     "name": "stdout",
     "output_type": "stream",
     "text": [
      "+----+--------------------+--------------------+\n",
      "|code|              towers|               times|\n",
      "+----+--------------------+--------------------+\n",
      "| 273|[gxhip, qzijd, yj...|[78, 349, 461, 76...|\n",
      "| 839|[ixdgk, lwitd, um...|[51, 67, 71, 75, ...|\n",
      "| 291|[qtkbq, dfxpf, ff...|[206, 217, 412, 4...|\n",
      "| 210|[xxwuj, youmx, md...|[81, 162, 191, 22...|\n",
      "| 220|[lkpin, htwbq, cl...|[31, 51, 107, 129...|\n",
      "| 542|[kuhds, hdqsf, en...|[54, 89, 271, 308...|\n",
      "| 995|[fquzt, nrfyk, va...|[46, 49, 64, 69, ...|\n",
      "| 659|[czctq, ikfbu, eg...|[69, 82, 92, 141,...|\n",
      "| 681|[eqisd, daviq, lw...|[46, 97, 112, 138...|\n",
      "| 501|[wgiwe, qpsft, lt...|[92, 99, 121, 122...|\n",
      "+----+--------------------+--------------------+\n",
      "only showing top 10 rows\n",
      "\n",
      "+----+--------------------+--------------------+\n",
      "|code|              towers|               times|\n",
      "+----+--------------------+--------------------+\n",
      "| 839|[vtokd, lewpi, bh...|[1402, 1412, 1427...|\n",
      "| 291|             [jrzrn]|              [1476]|\n",
      "| 210|[rnikk, qrurz, xv...|[1410, 1425, 1440...|\n",
      "| 220|[ddfob, polni, tz...|  [1407, 1443, 1497]|\n",
      "| 995|[smnqi, ivtut, nl...|[1404, 1409, 1417...|\n",
      "| 659|[fokvx, vhbcm, ab...|[1401, 1404, 1423...|\n",
      "| 681|             [uspyd]|              [1494]|\n",
      "| 501|             [hbhvc]|              [1414]|\n",
      "| 549|      [pujxb, bfmpu]|        [1449, 1465]|\n",
      "| 948|             [wgpdx]|              [1460]|\n",
      "+----+--------------------+--------------------+\n",
      "only showing top 10 rows\n",
      "\n"
     ]
    }
   ],
   "source": [
    "mobility_instance = Mobility('sample', None, None, None, None)\n",
    "user_cells_start = mobility_instance.get_mobility_at_time_interval(30, 7000)\n",
    "user_cells_end   = mobility_instance.get_mobility_at_time_interval(1400, 2700)"
   ]
  },
  {
   "cell_type": "code",
   "execution_count": 6,
   "metadata": {},
   "outputs": [],
   "source": [
    "# TODO: Normalize users_cells?"
   ]
  },
  {
   "cell_type": "code",
   "execution_count": 7,
   "metadata": {
    "scrolled": false
   },
   "outputs": [
    {
     "name": "stdout",
     "output_type": "stream",
     "text": [
      "+----+-----+-----+\n",
      "|code| cell|count|\n",
      "+----+-----+-----+\n",
      "| 965|qtpew|    1|\n",
      "| 122|yzlfc|    1|\n",
      "| 504|uwezh|    1|\n",
      "| 389|hmdce|    1|\n",
      "| 394|sawmv|    1|\n",
      "|   7|sqjos|    1|\n",
      "|   7|tydxf|    1|\n",
      "|  14|phsgp|    1|\n",
      "|  14|etvuh|    1|\n",
      "| 467|vjwwt|    1|\n",
      "| 467|tocfa|    1|\n",
      "| 209|dlwbe|    1|\n",
      "| 209|ehius|    1|\n",
      "| 469|rcoak|    1|\n",
      "| 275|ayqfs|    1|\n",
      "| 871|frwrt|    1|\n",
      "| 355|cdjoh|    1|\n",
      "| 387|ovsnu|    1|\n",
      "| 348|tpvgf|    1|\n",
      "| 199|ovriz|    1|\n",
      "+----+-----+-----+\n",
      "only showing top 20 rows\n",
      "\n"
     ]
    }
   ],
   "source": [
    "user_cells_start.show()"
   ]
  },
  {
   "cell_type": "code",
   "execution_count": 8,
   "metadata": {},
   "outputs": [
    {
     "name": "stdout",
     "output_type": "stream",
     "text": [
      "+----+-----+-----+\n",
      "|code| cell|count|\n",
      "+----+-----+-----+\n",
      "| 848|hwwpn|    1|\n",
      "| 100|tityo|    1|\n",
      "| 128|tinlu|    1|\n",
      "| 654|cgzfj|    1|\n",
      "| 702|ygete|    1|\n",
      "|  87|ufxwn|    1|\n",
      "| 742|byyjp|    1|\n",
      "|1000|yuvex|    1|\n",
      "| 147|qhvna|    1|\n",
      "| 256|qgxys|    1|\n",
      "| 304|jzpus|    1|\n",
      "| 400|mzyfy|    1|\n",
      "| 889|mfnas|    1|\n",
      "| 361|rwhmy|    1|\n",
      "| 424|dcmtf|    1|\n",
      "| 361|zcvzw|    1|\n",
      "| 988|enjkw|    1|\n",
      "| 651|bnawj|    1|\n",
      "| 284|tbkhb|    1|\n",
      "| 435|geqbn|    1|\n",
      "+----+-----+-----+\n",
      "only showing top 20 rows\n",
      "\n"
     ]
    }
   ],
   "source": [
    "user_cells_end.show()"
   ]
  },
  {
   "cell_type": "code",
   "execution_count": 10,
   "metadata": {},
   "outputs": [
    {
     "name": "stdout",
     "output_type": "stream",
     "text": [
      "+-----+\n",
      "|inter|\n",
      "+-----+\n",
      "|   26|\n",
      "|  418|\n",
      "|   65|\n",
      "|  191|\n",
      "|  938|\n",
      "|  270|\n",
      "|  222|\n",
      "|  278|\n",
      "|  965|\n",
      "|  296|\n",
      "|  926|\n",
      "|   19|\n",
      "|  348|\n",
      "|  287|\n",
      "|  847|\n",
      "|  415|\n",
      "|  831|\n",
      "|  736|\n",
      "|  155|\n",
      "|  112|\n",
      "+-----+\n",
      "only showing top 20 rows\n",
      "\n"
     ]
    }
   ],
   "source": [
    "inter = user_cells_start.select('code')\\\n",
    "        .intersect(user_cells_end.select('code'))\\\n",
    "        .withColumnRenamed('code', 'inter')\n",
    "inter.show()"
   ]
  },
  {
   "cell_type": "code",
   "execution_count": 28,
   "metadata": {},
   "outputs": [
    {
     "name": "stdout",
     "output_type": "stream",
     "text": [
      "+----+-----+-----+------+------+-------+\n",
      "|code| cell|count|code_1|cell_1|count_1|\n",
      "+----+-----+-----+------+------+-------+\n",
      "| 965|qtpew|    1|   848| hwwpn|      1|\n",
      "| 965|qtpew|    1|   100| tityo|      1|\n",
      "| 965|qtpew|    1|   128| tinlu|      1|\n",
      "| 965|qtpew|    1|   654| cgzfj|      1|\n",
      "| 965|qtpew|    1|   702| ygete|      1|\n",
      "| 965|qtpew|    1|    87| ufxwn|      1|\n",
      "| 965|qtpew|    1|   742| byyjp|      1|\n",
      "| 965|qtpew|    1|  1000| yuvex|      1|\n",
      "| 965|qtpew|    1|   147| qhvna|      1|\n",
      "| 965|qtpew|    1|   256| qgxys|      1|\n",
      "| 965|qtpew|    1|   304| jzpus|      1|\n",
      "| 965|qtpew|    1|   400| mzyfy|      1|\n",
      "| 965|qtpew|    1|   889| mfnas|      1|\n",
      "| 965|qtpew|    1|   361| rwhmy|      1|\n",
      "| 965|qtpew|    1|   424| dcmtf|      1|\n",
      "| 965|qtpew|    1|   361| zcvzw|      1|\n",
      "| 965|qtpew|    1|   988| enjkw|      1|\n",
      "| 965|qtpew|    1|   651| bnawj|      1|\n",
      "| 965|qtpew|    1|   284| tbkhb|      1|\n",
      "| 965|qtpew|    1|   435| geqbn|      1|\n",
      "+----+-----+-----+------+------+-------+\n",
      "only showing top 20 rows\n",
      "\n"
     ]
    }
   ],
   "source": [
    "# Para quedarme con la data completa, solo de los usuarios en la interseccion\n",
    "# Creo que me puedo ahorrar este paso\n",
    "\n",
    "\n",
    "user_cells_start = inter.join(user_cells_start)\\\n",
    "                        .select('code', 'cell', 'count')\\\n",
    "                        .filter(F.col('code') == F.col('inter'))\n",
    "\n",
    "user_cells_end = inter.join(user_cells_end)\\\n",
    "                      .select('code', 'cell', 'count')\\\n",
    "                      .filter(F.col('code') == F.col('inter'))\\\n",
    "                      .withColumnRenamed('code', 'code_1')\\\n",
    "                      .withColumnRenamed('cell', 'cell_1')\\\n",
    "                      .withColumnRenamed('count', 'count_1')\n",
    "            \n",
    "\n",
    "#user_cells_start.show()\n",
    "#user_cells_end.show()\n",
    "users_interception = user_cells_start.join(user_cells_end)\n",
    "users_interception.show()"
   ]
  },
  {
   "cell_type": "code",
   "execution_count": 39,
   "metadata": {
    "scrolled": false
   },
   "outputs": [
    {
     "name": "stdout",
     "output_type": "stream",
     "text": [
      "+-----+------+--------+\n",
      "| cell|cell_1|sum(val)|\n",
      "+-----+------+--------+\n",
      "|uajsk| sgdgo|       1|\n",
      "|rwbyi| yzumf|       1|\n",
      "|anbqr| itduz|       1|\n",
      "|zygcv| itduz|       1|\n",
      "|skerw| bdloe|       1|\n",
      "|imfqf| rrdkc|       1|\n",
      "|izcfe| omrsc|       1|\n",
      "|oqcds| vvikf|       1|\n",
      "|jvjha| uxfke|       1|\n",
      "|gxqrt| jeryo|       1|\n",
      "|gxqrt| vjlpc|       1|\n",
      "|rxonr| ccite|       1|\n",
      "|fwdfl| ubbxv|       1|\n",
      "|zcuoq| osizt|       1|\n",
      "|hpkee| hhgzr|       1|\n",
      "|xlyvl| mmdkm|       1|\n",
      "|enkxy| emuhk|       1|\n",
      "|qamwy| qidtx|       1|\n",
      "|jkabw| jxmbd|       1|\n",
      "|berdf| ouovs|       1|\n",
      "+-----+------+--------+\n",
      "only showing top 20 rows\n",
      "\n"
     ]
    }
   ],
   "source": [
    "# Supuesta 'matriz'\n",
    "\n",
    "matriz = users_interception.withColumn('val', F.col('count') * F.col('count_1'))\\\n",
    "                           .select('cell', 'cell_1', 'val')\\\n",
    "                           .filter(F.col('code') == F.col('code_1'))\\\n",
    "                           .groupBy('cell', 'cell_1')\\\n",
    "                           .agg(F.sum(F.col('val')))\n",
    "matriz.show()"
   ]
  },
  {
   "cell_type": "code",
   "execution_count": null,
   "metadata": {},
   "outputs": [],
   "source": []
  }
 ],
 "metadata": {
  "kernelspec": {
   "display_name": "Python 3",
   "language": "python",
   "name": "python3"
  },
  "language_info": {
   "codemirror_mode": {
    "name": "ipython",
    "version": 3
   },
   "file_extension": ".py",
   "mimetype": "text/x-python",
   "name": "python",
   "nbconvert_exporter": "python",
   "pygments_lexer": "ipython3",
   "version": "3.8.5"
  }
 },
 "nbformat": 4,
 "nbformat_minor": 4
}

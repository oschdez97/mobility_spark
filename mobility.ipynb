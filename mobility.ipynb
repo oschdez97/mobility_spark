{
 "cells": [
  {
   "cell_type": "code",
   "execution_count": 1,
   "metadata": {},
   "outputs": [],
   "source": [
    "import json\n",
    "import pyspark.sql.functions as F\n",
    "from utils import get_range\n",
    "from pyspark.sql import SparkSession\n",
    "from pyspark.sql.types import StringType, ArrayType, IntegerType"
   ]
  },
  {
   "cell_type": "code",
   "execution_count": 2,
   "metadata": {},
   "outputs": [],
   "source": [
    "CELL_AREA    = '/data/cell_area.csv'\n",
    "PARQUETS_DIR = '/data/parquets'\n",
    "CURRENT_DIR  = '/home/hellscream/Documents/backendSpark'"
   ]
  },
  {
   "cell_type": "markdown",
   "metadata": {},
   "source": [
    "## DataFrame Schema"
   ]
  },
  {
   "cell_type": "raw",
   "metadata": {},
   "source": [
    "root\n",
    " |-- code: string (nullable = true)\n",
    " |-- towers: array (nullable = true)\n",
    " |    |-- element: string (containsNull = true)\n",
    " |-- times: array (nullable = true)\n",
    " |    |-- element: integer (containsNull = true)"
   ]
  },
  {
   "cell_type": "markdown",
   "metadata": {},
   "source": [
    "## Create Spark Session"
   ]
  },
  {
   "cell_type": "code",
   "execution_count": 6,
   "metadata": {},
   "outputs": [],
   "source": [
    "class SparkSessionBase():\n",
    "    def __init__(self):\n",
    "        self.spark = SparkSession\\\n",
    "                     .builder\\\n",
    "                     .appName('Mobility')\\\n",
    "                     .getOrCreate()\n",
    "        \n",
    "        self.cell_area_df = self.spark.read.format('csv').options(header='true', delimiter='\\t')\\\n",
    "                         .load(CURRENT_DIR + CELL_AREA)\\\n",
    "                         .select('id', 'area_correlator', 'latitude', 'longitude', 'province')"
   ]
  },
  {
   "cell_type": "code",
   "execution_count": 15,
   "metadata": {},
   "outputs": [],
   "source": [
    "class Mobility(SparkSessionBase):\n",
    "    def __init__(self, date, time_start_lower, time_start_high, time_end_lower,\n",
    "        time_end_high, time_sleep_lower='01:00', time_sleep_high='04:00'):\n",
    "        super().__init__()\n",
    "        self.date = date\n",
    "        \n",
    "    def get_mobility_at_time_interval(self, time_start, time_end):\n",
    "        # load correspondent parquet\n",
    "        df = self.spark.read.parquet(CURRENT_DIR + PARQUETS_DIR + '/' + self.date)\n",
    "\n",
    "        get_range_udf = F.udf(lambda elems, a, b : get_range(elems, a, b), ArrayType(IntegerType()))\n",
    "\n",
    "        df = df.withColumn('range', get_range_udf(df.times, F.lit(time_start), F.lit(time_end)))\\\n",
    "               .select(df.code,\\\n",
    "               F.slice(df.towers, F.col('range')[0], F.col('range')[1]).alias('towers'),\\\n",
    "               F.slice(df.times,  F.col('range')[0], F.col('range')[1]).alias('times'))\\\n",
    "               .where(F.size(F.col('towers')) > 0)\n",
    "        \n",
    "        # df.printSchema()\n",
    "        # df.show(10)\n",
    "        \n",
    "        df = df.select('code', F.explode('towers').alias('cell'))\\\n",
    "               .groupBy('code', 'cell')\\\n",
    "               .agg(F.count('cell').alias('count'))\n",
    "        \n",
    "        return df"
   ]
  },
  {
   "cell_type": "code",
   "execution_count": 20,
   "metadata": {},
   "outputs": [],
   "source": [
    "mobility_instance = Mobility('2020-11-02', None, None, None, None)\n",
    "user_cells_start = mobility_instance.get_mobility_at_time_interval(30, 7000)\n",
    "user_cells_end   = mobility_instance.get_mobility_at_time_interval(1400, 2700)"
   ]
  },
  {
   "cell_type": "code",
   "execution_count": null,
   "metadata": {},
   "outputs": [],
   "source": [
    "# TODO: Normalize users_cells?"
   ]
  },
  {
   "cell_type": "code",
   "execution_count": 18,
   "metadata": {
    "scrolled": false
   },
   "outputs": [
    {
     "name": "stdout",
     "output_type": "stream",
     "text": [
      "+-------+------+-----+\n",
      "|   code|  cell|count|\n",
      "+-------+------+-----+\n",
      "| 565307| dhjcx|   67|\n",
      "|6962467| d7b9d|    3|\n",
      "|5151469| d7b9d|    1|\n",
      "| 582127| d7d1f|  161|\n",
      "|7548928| d7d1g|    2|\n",
      "| 712215| d79sg|    2|\n",
      "|4618061| d7d1f|    3|\n",
      "|4460140| d7de0|    1|\n",
      "|2163495| d7dmx|   75|\n",
      "| 339945| d79eb|  154|\n",
      "|1048936|dhj7w4|   22|\n",
      "|1508789|  dhhc|    4|\n",
      "|6542869|dhj7z0|   35|\n",
      "|7063108|dhjec6|   37|\n",
      "|1583783|dhj7qu|   78|\n",
      "|2015061|dhj7x0|    1|\n",
      "|7582935|dhjeb4|  271|\n",
      "| 115859|dhj7w4|    2|\n",
      "|2163248|dhj7wn|    1|\n",
      "|1313928|dhj7z0|  113|\n",
      "+-------+------+-----+\n",
      "only showing top 20 rows\n",
      "\n"
     ]
    }
   ],
   "source": [
    "user_cells_start.show()"
   ]
  },
  {
   "cell_type": "code",
   "execution_count": 19,
   "metadata": {},
   "outputs": [
    {
     "name": "stdout",
     "output_type": "stream",
     "text": [
      "+-------+------+-----+\n",
      "|   code|  cell|count|\n",
      "+-------+------+-----+\n",
      "| 565307| dhjcx|   15|\n",
      "|6962467| d7b9d|    1|\n",
      "| 582127| d7d1f|   32|\n",
      "|2163495| d7dmx|   14|\n",
      "| 339945| d79eb|   27|\n",
      "|1048936|dhj7w4|    3|\n",
      "|6542869|dhj7z0|    7|\n",
      "|7063108|dhjec6|    4|\n",
      "|1583783|dhj7qu|   15|\n",
      "|7582935|dhjeb4|   62|\n",
      "|1313928|dhj7z0|   34|\n",
      "|4616098| d7d44|    7|\n",
      "|4440475| d79yb|    1|\n",
      "|2686226| d7d1f|    3|\n",
      "|1742092| d79yu|    4|\n",
      "|2002985| d79xy|    1|\n",
      "|  64543| d7b6d|   59|\n",
      "|  74738| d7d46|    2|\n",
      "|7124727| d7d1f|   31|\n",
      "|2114013| d7d1f|    1|\n",
      "+-------+------+-----+\n",
      "only showing top 20 rows\n",
      "\n"
     ]
    }
   ],
   "source": [
    "user_cells_end.show()"
   ]
  },
  {
   "cell_type": "code",
   "execution_count": null,
   "metadata": {},
   "outputs": [],
   "source": []
  }
 ],
 "metadata": {
  "kernelspec": {
   "display_name": "Python 3",
   "language": "python",
   "name": "python3"
  },
  "language_info": {
   "codemirror_mode": {
    "name": "ipython",
    "version": 3
   },
   "file_extension": ".py",
   "mimetype": "text/x-python",
   "name": "python",
   "nbconvert_exporter": "python",
   "pygments_lexer": "ipython3",
   "version": "3.8.5"
  }
 },
 "nbformat": 4,
 "nbformat_minor": 4
}

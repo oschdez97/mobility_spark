{
 "cells": [
  {
   "cell_type": "code",
   "execution_count": 1,
   "metadata": {},
   "outputs": [],
   "source": [
    "import json\n",
    "import pyspark.sql.functions as F\n",
    "from utils import get_range, count_occurrences, origin_destination_product\n",
    "from pyspark.sql import SparkSession\n",
    "from pyspark.sql.types import StringType, ArrayType, IntegerType"
   ]
  },
  {
   "cell_type": "code",
   "execution_count": 2,
   "metadata": {},
   "outputs": [],
   "source": [
    "CELL_AREA    = '/data/cell_area.csv'\n",
    "PARQUETS_DIR = '/data/parquets'\n",
    "CURRENT_DIR  = '/home/hellscream/Documents/backendSpark'"
   ]
  },
  {
   "cell_type": "markdown",
   "metadata": {},
   "source": [
    "## DataFrame Schema"
   ]
  },
  {
   "cell_type": "raw",
   "metadata": {},
   "source": [
    "root\n",
    " |-- code: string (nullable = true)\n",
    " |-- towers: array (nullable = true)\n",
    " |    |-- element: string (containsNull = true)\n",
    " |-- times: array (nullable = true)\n",
    " |    |-- element: integer (containsNull = true)"
   ]
  },
  {
   "cell_type": "markdown",
   "metadata": {},
   "source": [
    "## Create Spark Session"
   ]
  },
  {
   "cell_type": "code",
   "execution_count": 3,
   "metadata": {},
   "outputs": [],
   "source": [
    "class SparkSessionBase():\n",
    "    def __init__(self):\n",
    "        self.spark = SparkSession\\\n",
    "                     .builder\\\n",
    "                     .appName('Mobility')\\\n",
    "                     .getOrCreate()\n",
    "        \n",
    "        self.cell_area_df = self.spark.read.format('csv').options(header='true', delimiter='\\t')\\\n",
    "                         .load(CURRENT_DIR + CELL_AREA)\\\n",
    "                         .select('id', 'area_correlator', 'latitude', 'longitude', 'province')"
   ]
  },
  {
   "cell_type": "code",
   "execution_count": 4,
   "metadata": {},
   "outputs": [],
   "source": [
    "class Mobility(SparkSessionBase):\n",
    "    def __init__(self, date, time_start_lower, time_start_high, time_end_lower,\n",
    "        time_end_high, time_sleep_lower='01:00', time_sleep_high='04:00'):\n",
    "        super().__init__()\n",
    "        self.date = date\n",
    "        \n",
    "    def get_mobility_at_time_interval(self, time_start, time_end):\n",
    "        # load correspondent parquet\n",
    "        df = self.spark.read.parquet(CURRENT_DIR + PARQUETS_DIR + '/' + self.date)\n",
    "\n",
    "        get_range_udf = F.udf(lambda elems, a, b : get_range(elems, a, b), ArrayType(IntegerType()))\n",
    "\n",
    "        df = df.withColumn('range', get_range_udf(df.times, F.lit(time_start), F.lit(time_end)))\\\n",
    "               .select(df.code,\\\n",
    "               F.slice(df.towers, F.col('range')[0], F.col('range')[1]).alias('towers'),\\\n",
    "               F.slice(df.times,  F.col('range')[0], F.col('range')[1]).alias('times'))\\\n",
    "               .where(F.size(F.col('towers')) > 0)\n",
    "        \n",
    "        count_occurrences_udf = F.udf(lambda x : count_occurrences(x), ArrayType(ArrayType(StringType())))\n",
    "        \n",
    "        df = df.select('code', count_occurrences_udf(F.col('towers')).alias('towers-count'))\n",
    "        \n",
    "        df.printSchema()\n",
    "        df.show(10)\n",
    "        \n",
    "        return df"
   ]
  },
  {
   "cell_type": "code",
   "execution_count": 5,
   "metadata": {},
   "outputs": [
    {
     "name": "stdout",
     "output_type": "stream",
     "text": [
      "root\n",
      " |-- code: string (nullable = true)\n",
      " |-- towers-count: array (nullable = true)\n",
      " |    |-- element: array (containsNull = true)\n",
      " |    |    |-- element: string (containsNull = true)\n",
      "\n",
      "+-------+--------------------+\n",
      "|   code|        towers-count|\n",
      "+-------+--------------------+\n",
      "|4582376|        [[d7b9d, 1]]|\n",
      "|6892952|       [[d5yy1, 10]]|\n",
      "| 819378|       [[d5zur, 39]]|\n",
      "|1588148|        [[d78yd, 2]]|\n",
      "|6901043|        [[d5yvc, 1]]|\n",
      "|1229925|        [[d795s, 1]]|\n",
      "|4647869|        [[d7b9d, 1]]|\n",
      "|3049134|[[d7b9d, 6], [d7b...|\n",
      "|3998644|        [[d797z, 1]]|\n",
      "|1705846|       [[d7c49, 12]]|\n",
      "+-------+--------------------+\n",
      "only showing top 10 rows\n",
      "\n",
      "root\n",
      " |-- code: string (nullable = true)\n",
      " |-- towers-count: array (nullable = true)\n",
      " |    |-- element: array (containsNull = true)\n",
      " |    |    |-- element: string (containsNull = true)\n",
      "\n",
      "+-------+--------------------+\n",
      "|   code|        towers-count|\n",
      "+-------+--------------------+\n",
      "|6892952|       [[d5yy1, 13]]|\n",
      "| 819378|       [[d5zur, 50]]|\n",
      "|1588148|        [[d78yd, 1]]|\n",
      "|6901043|        [[d5yvc, 1]]|\n",
      "|7325994|        [[d79r1, 1]]|\n",
      "|3049134|[[d7b9d, 1], [d7b...|\n",
      "| 379374|        [[d5yvg, 1]]|\n",
      "|4230783|        [[d5zhh, 8]]|\n",
      "|6620846|        [[d5yy4, 1]]|\n",
      "| 565307|       [[dhjcx, 15]]|\n",
      "+-------+--------------------+\n",
      "only showing top 10 rows\n",
      "\n"
     ]
    }
   ],
   "source": [
    "mobility_instance = Mobility('sample', None, None, None, None)\n",
    "user_cells_start = mobility_instance.get_mobility_at_time_interval(30, 1000)\n",
    "user_cells_end   = mobility_instance.get_mobility_at_time_interval(1400, 2700)"
   ]
  },
  {
   "cell_type": "code",
   "execution_count": 6,
   "metadata": {
    "scrolled": false
   },
   "outputs": [
    {
     "name": "stdout",
     "output_type": "stream",
     "text": [
      "+-------+--------------------+\n",
      "|   code|        towers-count|\n",
      "+-------+--------------------+\n",
      "|4582376|        [[d7b9d, 1]]|\n",
      "|6892952|       [[d5yy1, 10]]|\n",
      "| 819378|       [[d5zur, 39]]|\n",
      "|1588148|        [[d78yd, 2]]|\n",
      "|6901043|        [[d5yvc, 1]]|\n",
      "|1229925|        [[d795s, 1]]|\n",
      "|4647869|        [[d7b9d, 1]]|\n",
      "|3049134|[[d7b9d, 6], [d7b...|\n",
      "|3998644|        [[d797z, 1]]|\n",
      "|1705846|       [[d7c49, 12]]|\n",
      "| 379374|        [[d5yvg, 1]]|\n",
      "|6202650|        [[d5yy1, 1]]|\n",
      "|4230783|        [[d5zhh, 8]]|\n",
      "|6620846|        [[d5yy4, 1]]|\n",
      "|7075816|        [[d79r0, 1]]|\n",
      "| 565307|       [[dhjcx, 10]]|\n",
      "| 115154|       [[d795t, 34]]|\n",
      "|5292136|        [[d5zxh, 1]]|\n",
      "|2181906|[[d79eb, 22], [d7...|\n",
      "|6922882|        [[d5yyn, 1]]|\n",
      "+-------+--------------------+\n",
      "only showing top 20 rows\n",
      "\n"
     ]
    }
   ],
   "source": [
    "user_cells_start.show()"
   ]
  },
  {
   "cell_type": "code",
   "execution_count": 7,
   "metadata": {
    "scrolled": false
   },
   "outputs": [
    {
     "name": "stdout",
     "output_type": "stream",
     "text": [
      "+-------+--------------------+\n",
      "|   code|        towers-count|\n",
      "+-------+--------------------+\n",
      "|6892952|       [[d5yy1, 13]]|\n",
      "| 819378|       [[d5zur, 50]]|\n",
      "|1588148|        [[d78yd, 1]]|\n",
      "|6901043|        [[d5yvc, 1]]|\n",
      "|7325994|        [[d79r1, 1]]|\n",
      "|3049134|[[d7b9d, 1], [d7b...|\n",
      "| 379374|        [[d5yvg, 1]]|\n",
      "|4230783|        [[d5zhh, 8]]|\n",
      "|6620846|        [[d5yy4, 1]]|\n",
      "| 565307|       [[dhjcx, 15]]|\n",
      "|2181906|[[d79eb, 22], [d7...|\n",
      "|6922882|        [[d5yyn, 1]]|\n",
      "|1461404|        [[d7bh0, 1]]|\n",
      "| 113609|        [[d5yvg, 3]]|\n",
      "| 221420|       [[d79eb, 10]]|\n",
      "| 314712|       [[d7b9d, 11]]|\n",
      "|7593700|        [[d78tc, 4]]|\n",
      "|2097102|[[d79qz, 1], [d79...|\n",
      "|7211033|        [[d5yv8, 1]]|\n",
      "|4280644|       [[d5zkh, 15]]|\n",
      "+-------+--------------------+\n",
      "only showing top 20 rows\n",
      "\n"
     ]
    }
   ],
   "source": [
    "user_cells_end.show()"
   ]
  },
  {
   "cell_type": "code",
   "execution_count": 71,
   "metadata": {},
   "outputs": [],
   "source": [
    "# TODO: Normalize users_cells values?"
   ]
  },
  {
   "cell_type": "code",
   "execution_count": 8,
   "metadata": {
    "scrolled": false
   },
   "outputs": [
    {
     "name": "stdout",
     "output_type": "stream",
     "text": [
      "+-------+--------------------+-------+--------------------+\n",
      "|   code|        towers-count| code_1|      towers-count_1|\n",
      "+-------+--------------------+-------+--------------------+\n",
      "|1023947|[[dhj7tg, 1], [dh...|1023947|[[dhj7tg, 2], [dh...|\n",
      "|1028327|        [[d795t, 1]]|1028327|[[d795s, 4], [d79...|\n",
      "|1029426|        [[d7c88, 1]]|1029426|        [[d7c88, 2]]|\n",
      "|1030428|[[dhjgp, 1], [dhn...|1030428|[[dhn50, 1], [dhj...|\n",
      "|1033423|[[dhj7z1, 18], [d...|1033423|[[dhj7z1, 13], [d...|\n",
      "|1056865|[[dhj7jq, 1], [dh...|1056865|       [[dhj7jg, 2]]|\n",
      "|1060235|         [[dhhc, 5]]|1060235|         [[dhhc, 1]]|\n",
      "|1096857|[[dhj6, 3], [dhj4...|1096857|         [[dhj4, 3]]|\n",
      "| 111710|       [[dhj7t2, 3]]| 111710|       [[dhj7t2, 5]]|\n",
      "|1147404|       [[dhjcx, 14]]|1147404|       [[dhjcx, 13]]|\n",
      "|1148935|       [[dhj7wx, 3]]|1148935|       [[dhj7wx, 4]]|\n",
      "|1160180|        [[dhjgp, 1]]|1160180|        [[dhjgp, 1]]|\n",
      "|1175424|       [[d7d4w, 46]]|1175424|       [[d7d4w, 63]]|\n",
      "|1181914|[[dhj7mz, 2], [dh...|1181914|[[dhj7ky, 2], [dh...|\n",
      "|1197655|[[dhj7mz, 3], [dh...|1197655|[[dhj7w6, 2], [dh...|\n",
      "|1230899|        [[d5zum, 1]]|1230899|        [[d5zum, 2]]|\n",
      "|1266322|        [[d7d1g, 9]]|1266322|        [[d7d1g, 2]]|\n",
      "| 129880|       [[dhj75y, 2]]| 129880|       [[dhj75y, 3]]|\n",
      "|1357494|        [[d79kc, 4]]|1357494|        [[d79kc, 4]]|\n",
      "|1380971|        [[d7d6m, 1]]|1380971|        [[d7d6m, 1]]|\n",
      "+-------+--------------------+-------+--------------------+\n",
      "only showing top 20 rows\n",
      "\n"
     ]
    }
   ],
   "source": [
    "join_user_cells = user_cells_start\\\n",
    "                  .join(user_cells_end\\\n",
    "                        .withColumnRenamed('code', 'code_1')\\\n",
    "                        .withColumnRenamed('towers-count', 'towers-count_1'))\n",
    "intersection = join_user_cells.select('*').filter(F.col('code') == F.col('code_1'))\n",
    "intersection.show()"
   ]
  },
  {
   "cell_type": "code",
   "execution_count": 16,
   "metadata": {
    "scrolled": false
   },
   "outputs": [
    {
     "name": "stdout",
     "output_type": "stream",
     "text": [
      "+-------+--------------------+\n",
      "|   code|       start-end-val|\n",
      "+-------+--------------------+\n",
      "|1023947|[[dhj7tg, dhj7tg,...|\n",
      "|1028327|[[d795t, d795s, 4...|\n",
      "|1029426| [[d7c88, d7c88, 2]]|\n",
      "|1030428|[[dhjgp, dhn50, 1...|\n",
      "|1033423|[[dhj7z1, dhj7z1,...|\n",
      "|1056865|[[dhj7jq, dhj7jg,...|\n",
      "|1060235|   [[dhhc, dhhc, 5]]|\n",
      "|1096857|[[dhj6, dhj4, 9],...|\n",
      "| 111710|[[dhj7t2, dhj7t2,...|\n",
      "|1147404|[[dhjcx, dhjcx, 1...|\n",
      "|1148935|[[dhj7wx, dhj7wx,...|\n",
      "|1160180| [[dhjgp, dhjgp, 1]]|\n",
      "|1175424|[[d7d4w, d7d4w, 2...|\n",
      "|1181914|[[dhj7mz, dhj7ky,...|\n",
      "|1197655|[[dhj7mz, dhj7w6,...|\n",
      "|1230899| [[d5zum, d5zum, 2]]|\n",
      "|1266322|[[d7d1g, d7d1g, 18]]|\n",
      "| 129880|[[dhj75y, dhj75y,...|\n",
      "|1357494|[[d79kc, d79kc, 16]]|\n",
      "|1380971| [[d7d6m, d7d6m, 1]]|\n",
      "+-------+--------------------+\n",
      "only showing top 20 rows\n",
      "\n"
     ]
    }
   ],
   "source": [
    "origin_destination_product_udf = F.udf(lambda x, y : origin_destination_product(x, y), \\\n",
    "                                       ArrayType(ArrayType(StringType())))\n",
    "\n",
    "matriz = intersection.select('code', origin_destination_product_udf(F.col('towers-count'), F.col('towers-count_1'))\\\n",
    "            .alias('start-end-val'))\n",
    "matriz.show()"
   ]
  },
  {
   "cell_type": "code",
   "execution_count": 21,
   "metadata": {},
   "outputs": [
    {
     "name": "stdout",
     "output_type": "stream",
     "text": [
      "+------+------+----------+\n",
      "| start|   end|sum(count)|\n",
      "+------+------+----------+\n",
      "|dhj7tg|dhj7te|      55.0|\n",
      "| d7d1f| d7d1f|  185190.0|\n",
      "|dhjeg3|dhjefb|    1207.0|\n",
      "|dhjecc|dhjecc|    7995.0|\n",
      "| d5zud| d7bh0|      18.0|\n",
      "| d5zrm| d5zqg|      93.0|\n",
      "| d5zt9| d5zjm|       7.0|\n",
      "| d5zyh| d5zwr|     286.0|\n",
      "| d79ps| d79ps|    1227.0|\n",
      "| d7972| d7969|      52.0|\n",
      "| d7b9d| d7b97|       9.0|\n",
      "| dhn5q| dhn5w|     293.0|\n",
      "| d7dtk| d7dtw|     566.0|\n",
      "| d79zb| d79z9|    2933.0|\n",
      "|dhj7su|  dhj4|      10.0|\n",
      "| d5zhh| d5zh5|      62.0|\n",
      "|dhj7hu|dhj7mp|       4.0|\n",
      "| dhjgx| dhn50|      14.0|\n",
      "|dhj7mm|dhj7my|       1.0|\n",
      "| dhn5w| dhn7c|      16.0|\n",
      "+------+------+----------+\n",
      "only showing top 20 rows\n",
      "\n"
     ]
    }
   ],
   "source": [
    "matriz.withColumn('explode', F.explode(F.col('start-end-val')))\\\n",
    "      .select([F.col('explode')[i] for i in range(3)])\\\n",
    "      .withColumnRenamed('explode[0]', 'start')\\\n",
    "      .withColumnRenamed('explode[1]', 'end')\\\n",
    "      .withColumnRenamed('explode[2]', 'count')\\\n",
    "      .groupBy('start', 'end')\\\n",
    "      .agg(F.sum(F.col('count')))\\\n",
    "      .show()"
   ]
  },
  {
   "cell_type": "code",
   "execution_count": null,
   "metadata": {},
   "outputs": [],
   "source": []
  }
 ],
 "metadata": {
  "kernelspec": {
   "display_name": "Python 3",
   "language": "python",
   "name": "python3"
  },
  "language_info": {
   "codemirror_mode": {
    "name": "ipython",
    "version": 3
   },
   "file_extension": ".py",
   "mimetype": "text/x-python",
   "name": "python",
   "nbconvert_exporter": "python",
   "pygments_lexer": "ipython3",
   "version": "3.8.5"
  }
 },
 "nbformat": 4,
 "nbformat_minor": 4
}
